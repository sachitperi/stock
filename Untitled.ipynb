{
 "cells": [
  {
   "cell_type": "code",
   "execution_count": 1,
   "metadata": {},
   "outputs": [],
   "source": [
    "import pandas as pd\n",
    "import numpy as np"
   ]
  },
  {
   "cell_type": "code",
   "execution_count": 2,
   "metadata": {},
   "outputs": [],
   "source": [
    "data_path = \"./data/\""
   ]
  },
  {
   "cell_type": "code",
   "execution_count": 3,
   "metadata": {},
   "outputs": [
    {
     "data": {
      "text/html": [
       "<div>\n",
       "<style scoped>\n",
       "    .dataframe tbody tr th:only-of-type {\n",
       "        vertical-align: middle;\n",
       "    }\n",
       "\n",
       "    .dataframe tbody tr th {\n",
       "        vertical-align: top;\n",
       "    }\n",
       "\n",
       "    .dataframe thead th {\n",
       "        text-align: right;\n",
       "    }\n",
       "</style>\n",
       "<table border=\"1\" class=\"dataframe\">\n",
       "  <thead>\n",
       "    <tr style=\"text-align: right;\">\n",
       "      <th></th>\n",
       "      <th>ticker</th>\n",
       "      <th>open</th>\n",
       "      <th>high</th>\n",
       "      <th>low</th>\n",
       "      <th>close</th>\n",
       "      <th>volume</th>\n",
       "      <th>year</th>\n",
       "      <th>month</th>\n",
       "      <th>date</th>\n",
       "    </tr>\n",
       "  </thead>\n",
       "  <tbody>\n",
       "    <tr>\n",
       "      <td>0</td>\n",
       "      <td>20MICRONS</td>\n",
       "      <td>37.75</td>\n",
       "      <td>38.05</td>\n",
       "      <td>34.80</td>\n",
       "      <td>35.75</td>\n",
       "      <td>73118.0</td>\n",
       "      <td>2018</td>\n",
       "      <td>6</td>\n",
       "      <td>2018-06-27</td>\n",
       "    </tr>\n",
       "    <tr>\n",
       "      <td>1</td>\n",
       "      <td>21STCENMGM</td>\n",
       "      <td>37.00</td>\n",
       "      <td>37.00</td>\n",
       "      <td>37.00</td>\n",
       "      <td>37.00</td>\n",
       "      <td>762.0</td>\n",
       "      <td>2018</td>\n",
       "      <td>6</td>\n",
       "      <td>2018-06-27</td>\n",
       "    </tr>\n",
       "    <tr>\n",
       "      <td>2</td>\n",
       "      <td>3IINFOTECH</td>\n",
       "      <td>4.15</td>\n",
       "      <td>4.15</td>\n",
       "      <td>4.00</td>\n",
       "      <td>4.00</td>\n",
       "      <td>2425430.0</td>\n",
       "      <td>2018</td>\n",
       "      <td>6</td>\n",
       "      <td>2018-06-27</td>\n",
       "    </tr>\n",
       "    <tr>\n",
       "      <td>3</td>\n",
       "      <td>3MINDIA</td>\n",
       "      <td>19534.70</td>\n",
       "      <td>19950.00</td>\n",
       "      <td>19500.00</td>\n",
       "      <td>19590.35</td>\n",
       "      <td>611.0</td>\n",
       "      <td>2018</td>\n",
       "      <td>6</td>\n",
       "      <td>2018-06-27</td>\n",
       "    </tr>\n",
       "    <tr>\n",
       "      <td>4</td>\n",
       "      <td>3PLAND</td>\n",
       "      <td>13.00</td>\n",
       "      <td>14.25</td>\n",
       "      <td>12.05</td>\n",
       "      <td>13.95</td>\n",
       "      <td>6789.0</td>\n",
       "      <td>2018</td>\n",
       "      <td>6</td>\n",
       "      <td>2018-06-27</td>\n",
       "    </tr>\n",
       "  </tbody>\n",
       "</table>\n",
       "</div>"
      ],
      "text/plain": [
       "       ticker      open      high       low     close     volume  year  month  \\\n",
       "0   20MICRONS     37.75     38.05     34.80     35.75    73118.0  2018      6   \n",
       "1  21STCENMGM     37.00     37.00     37.00     37.00      762.0  2018      6   \n",
       "2  3IINFOTECH      4.15      4.15      4.00      4.00  2425430.0  2018      6   \n",
       "3     3MINDIA  19534.70  19950.00  19500.00  19590.35      611.0  2018      6   \n",
       "4      3PLAND     13.00     14.25     12.05     13.95     6789.0  2018      6   \n",
       "\n",
       "         date  \n",
       "0  2018-06-27  \n",
       "1  2018-06-27  \n",
       "2  2018-06-27  \n",
       "3  2018-06-27  \n",
       "4  2018-06-27  "
      ]
     },
     "execution_count": 3,
     "metadata": {},
     "output_type": "execute_result"
    }
   ],
   "source": [
    "stock_data_raw_path = f\"{data_path}raw/stock_price_data.csv\"\n",
    "df_stock = pd.read_csv(stock_data_raw_path)\n",
    "df_stock.head()"
   ]
  },
  {
   "cell_type": "code",
   "execution_count": 4,
   "metadata": {},
   "outputs": [],
   "source": [
    "df_stock.sort_values(by=[\"ticker\", \"date\"], inplace=True)"
   ]
  },
  {
   "cell_type": "code",
   "execution_count": 5,
   "metadata": {},
   "outputs": [
    {
     "data": {
      "text/html": [
       "<div>\n",
       "<style scoped>\n",
       "    .dataframe tbody tr th:only-of-type {\n",
       "        vertical-align: middle;\n",
       "    }\n",
       "\n",
       "    .dataframe tbody tr th {\n",
       "        vertical-align: top;\n",
       "    }\n",
       "\n",
       "    .dataframe thead th {\n",
       "        text-align: right;\n",
       "    }\n",
       "</style>\n",
       "<table border=\"1\" class=\"dataframe\">\n",
       "  <thead>\n",
       "    <tr style=\"text-align: right;\">\n",
       "      <th></th>\n",
       "      <th>ticker</th>\n",
       "      <th>open</th>\n",
       "      <th>high</th>\n",
       "      <th>low</th>\n",
       "      <th>close</th>\n",
       "      <th>volume</th>\n",
       "      <th>year</th>\n",
       "      <th>month</th>\n",
       "      <th>date</th>\n",
       "    </tr>\n",
       "  </thead>\n",
       "  <tbody>\n",
       "    <tr>\n",
       "      <td>6746</td>\n",
       "      <td>20MICRONS</td>\n",
       "      <td>25.85</td>\n",
       "      <td>26.10</td>\n",
       "      <td>25.40</td>\n",
       "      <td>25.85</td>\n",
       "      <td>32684.0</td>\n",
       "      <td>2015</td>\n",
       "      <td>10</td>\n",
       "      <td>2015-10-12</td>\n",
       "    </tr>\n",
       "    <tr>\n",
       "      <td>1032217</td>\n",
       "      <td>20MICRONS</td>\n",
       "      <td>25.80</td>\n",
       "      <td>30.50</td>\n",
       "      <td>25.50</td>\n",
       "      <td>29.45</td>\n",
       "      <td>303020.0</td>\n",
       "      <td>2015</td>\n",
       "      <td>10</td>\n",
       "      <td>2015-10-13</td>\n",
       "    </tr>\n",
       "    <tr>\n",
       "      <td>803865</td>\n",
       "      <td>20MICRONS</td>\n",
       "      <td>29.70</td>\n",
       "      <td>32.45</td>\n",
       "      <td>25.80</td>\n",
       "      <td>29.95</td>\n",
       "      <td>645869.0</td>\n",
       "      <td>2015</td>\n",
       "      <td>10</td>\n",
       "      <td>2015-10-14</td>\n",
       "    </tr>\n",
       "    <tr>\n",
       "      <td>716280</td>\n",
       "      <td>20MICRONS</td>\n",
       "      <td>30.45</td>\n",
       "      <td>31.25</td>\n",
       "      <td>29.80</td>\n",
       "      <td>30.40</td>\n",
       "      <td>476248.0</td>\n",
       "      <td>2015</td>\n",
       "      <td>10</td>\n",
       "      <td>2015-10-15</td>\n",
       "    </tr>\n",
       "    <tr>\n",
       "      <td>1119049</td>\n",
       "      <td>20MICRONS</td>\n",
       "      <td>30.70</td>\n",
       "      <td>30.75</td>\n",
       "      <td>29.95</td>\n",
       "      <td>30.30</td>\n",
       "      <td>182884.0</td>\n",
       "      <td>2015</td>\n",
       "      <td>10</td>\n",
       "      <td>2015-10-16</td>\n",
       "    </tr>\n",
       "    <tr>\n",
       "      <td>...</td>\n",
       "      <td>...</td>\n",
       "      <td>...</td>\n",
       "      <td>...</td>\n",
       "      <td>...</td>\n",
       "      <td>...</td>\n",
       "      <td>...</td>\n",
       "      <td>...</td>\n",
       "      <td>...</td>\n",
       "      <td>...</td>\n",
       "    </tr>\n",
       "    <tr>\n",
       "      <td>1410620</td>\n",
       "      <td>20MICRONS</td>\n",
       "      <td>26.00</td>\n",
       "      <td>27.25</td>\n",
       "      <td>25.70</td>\n",
       "      <td>26.10</td>\n",
       "      <td>12609.0</td>\n",
       "      <td>2016</td>\n",
       "      <td>2</td>\n",
       "      <td>2016-02-29</td>\n",
       "    </tr>\n",
       "    <tr>\n",
       "      <td>1505101</td>\n",
       "      <td>20MICRONS</td>\n",
       "      <td>26.80</td>\n",
       "      <td>27.25</td>\n",
       "      <td>26.10</td>\n",
       "      <td>27.00</td>\n",
       "      <td>61467.0</td>\n",
       "      <td>2016</td>\n",
       "      <td>3</td>\n",
       "      <td>2016-03-01</td>\n",
       "    </tr>\n",
       "    <tr>\n",
       "      <td>434823</td>\n",
       "      <td>20MICRONS</td>\n",
       "      <td>26.70</td>\n",
       "      <td>27.60</td>\n",
       "      <td>26.70</td>\n",
       "      <td>27.15</td>\n",
       "      <td>38434.0</td>\n",
       "      <td>2016</td>\n",
       "      <td>3</td>\n",
       "      <td>2016-03-02</td>\n",
       "    </tr>\n",
       "    <tr>\n",
       "      <td>1344371</td>\n",
       "      <td>20MICRONS</td>\n",
       "      <td>27.70</td>\n",
       "      <td>27.70</td>\n",
       "      <td>26.50</td>\n",
       "      <td>27.30</td>\n",
       "      <td>18063.0</td>\n",
       "      <td>2016</td>\n",
       "      <td>3</td>\n",
       "      <td>2016-03-03</td>\n",
       "    </tr>\n",
       "    <tr>\n",
       "      <td>958605</td>\n",
       "      <td>20MICRONS</td>\n",
       "      <td>27.55</td>\n",
       "      <td>27.80</td>\n",
       "      <td>27.00</td>\n",
       "      <td>27.25</td>\n",
       "      <td>20477.0</td>\n",
       "      <td>2016</td>\n",
       "      <td>3</td>\n",
       "      <td>2016-03-04</td>\n",
       "    </tr>\n",
       "  </tbody>\n",
       "</table>\n",
       "<p>100 rows × 9 columns</p>\n",
       "</div>"
      ],
      "text/plain": [
       "            ticker   open   high    low  close    volume  year  month  \\\n",
       "6746     20MICRONS  25.85  26.10  25.40  25.85   32684.0  2015     10   \n",
       "1032217  20MICRONS  25.80  30.50  25.50  29.45  303020.0  2015     10   \n",
       "803865   20MICRONS  29.70  32.45  25.80  29.95  645869.0  2015     10   \n",
       "716280   20MICRONS  30.45  31.25  29.80  30.40  476248.0  2015     10   \n",
       "1119049  20MICRONS  30.70  30.75  29.95  30.30  182884.0  2015     10   \n",
       "...            ...    ...    ...    ...    ...       ...   ...    ...   \n",
       "1410620  20MICRONS  26.00  27.25  25.70  26.10   12609.0  2016      2   \n",
       "1505101  20MICRONS  26.80  27.25  26.10  27.00   61467.0  2016      3   \n",
       "434823   20MICRONS  26.70  27.60  26.70  27.15   38434.0  2016      3   \n",
       "1344371  20MICRONS  27.70  27.70  26.50  27.30   18063.0  2016      3   \n",
       "958605   20MICRONS  27.55  27.80  27.00  27.25   20477.0  2016      3   \n",
       "\n",
       "               date  \n",
       "6746     2015-10-12  \n",
       "1032217  2015-10-13  \n",
       "803865   2015-10-14  \n",
       "716280   2015-10-15  \n",
       "1119049  2015-10-16  \n",
       "...             ...  \n",
       "1410620  2016-02-29  \n",
       "1505101  2016-03-01  \n",
       "434823   2016-03-02  \n",
       "1344371  2016-03-03  \n",
       "958605   2016-03-04  \n",
       "\n",
       "[100 rows x 9 columns]"
      ]
     },
     "execution_count": 5,
     "metadata": {},
     "output_type": "execute_result"
    }
   ],
   "source": [
    "df_stock.head(100)"
   ]
  },
  {
   "cell_type": "code",
   "execution_count": 62,
   "metadata": {},
   "outputs": [
    {
     "data": {
      "text/html": [
       "<div>\n",
       "<style scoped>\n",
       "    .dataframe tbody tr th:only-of-type {\n",
       "        vertical-align: middle;\n",
       "    }\n",
       "\n",
       "    .dataframe tbody tr th {\n",
       "        vertical-align: top;\n",
       "    }\n",
       "\n",
       "    .dataframe thead th {\n",
       "        text-align: right;\n",
       "    }\n",
       "</style>\n",
       "<table border=\"1\" class=\"dataframe\">\n",
       "  <thead>\n",
       "    <tr style=\"text-align: right;\">\n",
       "      <th></th>\n",
       "      <th>ticker</th>\n",
       "      <th>open</th>\n",
       "      <th>high</th>\n",
       "      <th>low</th>\n",
       "      <th>close</th>\n",
       "      <th>volume</th>\n",
       "      <th>year</th>\n",
       "      <th>month</th>\n",
       "      <th>date</th>\n",
       "    </tr>\n",
       "  </thead>\n",
       "  <tbody>\n",
       "    <tr>\n",
       "      <td>174950</td>\n",
       "      <td>SBILIFE</td>\n",
       "      <td>827.80</td>\n",
       "      <td>839.80</td>\n",
       "      <td>822.30</td>\n",
       "      <td>835.10</td>\n",
       "      <td>338992.0</td>\n",
       "      <td>2019</td>\n",
       "      <td>8</td>\n",
       "      <td>2019-08-29</td>\n",
       "    </tr>\n",
       "    <tr>\n",
       "      <td>684163</td>\n",
       "      <td>SBILIFE</td>\n",
       "      <td>840.00</td>\n",
       "      <td>841.80</td>\n",
       "      <td>821.55</td>\n",
       "      <td>828.45</td>\n",
       "      <td>538964.0</td>\n",
       "      <td>2019</td>\n",
       "      <td>8</td>\n",
       "      <td>2019-08-28</td>\n",
       "    </tr>\n",
       "    <tr>\n",
       "      <td>849962</td>\n",
       "      <td>SBILIFE</td>\n",
       "      <td>827.00</td>\n",
       "      <td>847.00</td>\n",
       "      <td>827.00</td>\n",
       "      <td>834.25</td>\n",
       "      <td>851189.0</td>\n",
       "      <td>2019</td>\n",
       "      <td>8</td>\n",
       "      <td>2019-08-27</td>\n",
       "    </tr>\n",
       "    <tr>\n",
       "      <td>320885</td>\n",
       "      <td>SBILIFE</td>\n",
       "      <td>838.00</td>\n",
       "      <td>839.45</td>\n",
       "      <td>818.15</td>\n",
       "      <td>827.10</td>\n",
       "      <td>606859.0</td>\n",
       "      <td>2019</td>\n",
       "      <td>8</td>\n",
       "      <td>2019-08-26</td>\n",
       "    </tr>\n",
       "    <tr>\n",
       "      <td>974657</td>\n",
       "      <td>SBILIFE</td>\n",
       "      <td>814.95</td>\n",
       "      <td>830.05</td>\n",
       "      <td>812.25</td>\n",
       "      <td>821.25</td>\n",
       "      <td>545349.0</td>\n",
       "      <td>2019</td>\n",
       "      <td>8</td>\n",
       "      <td>2019-08-23</td>\n",
       "    </tr>\n",
       "  </tbody>\n",
       "</table>\n",
       "</div>"
      ],
      "text/plain": [
       "         ticker    open    high     low   close    volume  year  month  \\\n",
       "174950  SBILIFE  827.80  839.80  822.30  835.10  338992.0  2019      8   \n",
       "684163  SBILIFE  840.00  841.80  821.55  828.45  538964.0  2019      8   \n",
       "849962  SBILIFE  827.00  847.00  827.00  834.25  851189.0  2019      8   \n",
       "320885  SBILIFE  838.00  839.45  818.15  827.10  606859.0  2019      8   \n",
       "974657  SBILIFE  814.95  830.05  812.25  821.25  545349.0  2019      8   \n",
       "\n",
       "              date  \n",
       "174950  2019-08-29  \n",
       "684163  2019-08-28  \n",
       "849962  2019-08-27  \n",
       "320885  2019-08-26  \n",
       "974657  2019-08-23  "
      ]
     },
     "execution_count": 62,
     "metadata": {},
     "output_type": "execute_result"
    }
   ],
   "source": [
    "df_20mic = df_stock[df_stock[\"ticker\"]==\"SBILIFE\"].sort_values(by=[\"date\"], ascending=False)\n",
    "df_20mic.head()"
   ]
  },
  {
   "cell_type": "code",
   "execution_count": 77,
   "metadata": {},
   "outputs": [],
   "source": [
    "k = 30"
   ]
  },
  {
   "cell_type": "code",
   "execution_count": 78,
   "metadata": {},
   "outputs": [],
   "source": [
    "df_20mic = df_20mic.iloc[:k]"
   ]
  },
  {
   "cell_type": "code",
   "execution_count": 79,
   "metadata": {},
   "outputs": [],
   "source": [
    "import matplotlib.pyplot as plt"
   ]
  },
  {
   "cell_type": "code",
   "execution_count": 80,
   "metadata": {},
   "outputs": [],
   "source": [
    "import seaborn as sns"
   ]
  },
  {
   "cell_type": "code",
   "execution_count": 81,
   "metadata": {},
   "outputs": [
    {
     "data": {
      "text/plain": [
       "[]"
      ]
     },
     "execution_count": 81,
     "metadata": {},
     "output_type": "execute_result"
    },
    {
     "data": {
      "image/png": "[encoded data removed]",
      "text/plain": [
       "<Figure size 432x288 with 1 Axes>"
      ]
     },
     "metadata": {
      "needs_background": "light"
     },
     "output_type": "display_data"
    }
   ],
   "source": [
    "sns.distplot(df_20mic[\"close\"])\n",
    "plt.plot()"
   ]
  },
  {
   "cell_type": "code",
   "execution_count": 82,
   "metadata": {},
   "outputs": [
    {
     "data": {
      "text/plain": [
       "count     30.000000\n",
       "mean     800.235000\n",
       "std       29.291246\n",
       "min      740.850000\n",
       "25%      779.387500\n",
       "50%      797.400000\n",
       "75%      825.637500\n",
       "max      853.850000\n",
       "Name: close, dtype: float64"
      ]
     },
     "execution_count": 82,
     "metadata": {},
     "output_type": "execute_result"
    }
   ],
   "source": [
    "df_20mic[\"close\"].describe()"
   ]
  },
  {
   "cell_type": "code",
   "execution_count": 83,
   "metadata": {},
   "outputs": [],
   "source": [
    "j = 7"
   ]
  },
  {
   "cell_type": "code",
   "execution_count": 84,
   "metadata": {},
   "outputs": [
    {
     "data": {
      "text/html": [
       "<div>\n",
       "<style scoped>\n",
       "    .dataframe tbody tr th:only-of-type {\n",
       "        vertical-align: middle;\n",
       "    }\n",
       "\n",
       "    .dataframe tbody tr th {\n",
       "        vertical-align: top;\n",
       "    }\n",
       "\n",
       "    .dataframe thead th {\n",
       "        text-align: right;\n",
       "    }\n",
       "</style>\n",
       "<table border=\"1\" class=\"dataframe\">\n",
       "  <thead>\n",
       "    <tr style=\"text-align: right;\">\n",
       "      <th></th>\n",
       "      <th>ticker</th>\n",
       "      <th>open</th>\n",
       "      <th>high</th>\n",
       "      <th>low</th>\n",
       "      <th>close</th>\n",
       "      <th>volume</th>\n",
       "      <th>year</th>\n",
       "      <th>month</th>\n",
       "      <th>date</th>\n",
       "    </tr>\n",
       "  </thead>\n",
       "  <tbody>\n",
       "    <tr>\n",
       "      <td>174950</td>\n",
       "      <td>SBILIFE</td>\n",
       "      <td>827.80</td>\n",
       "      <td>839.80</td>\n",
       "      <td>822.30</td>\n",
       "      <td>835.10</td>\n",
       "      <td>338992.0</td>\n",
       "      <td>2019</td>\n",
       "      <td>8</td>\n",
       "      <td>2019-08-29</td>\n",
       "    </tr>\n",
       "    <tr>\n",
       "      <td>684163</td>\n",
       "      <td>SBILIFE</td>\n",
       "      <td>840.00</td>\n",
       "      <td>841.80</td>\n",
       "      <td>821.55</td>\n",
       "      <td>828.45</td>\n",
       "      <td>538964.0</td>\n",
       "      <td>2019</td>\n",
       "      <td>8</td>\n",
       "      <td>2019-08-28</td>\n",
       "    </tr>\n",
       "    <tr>\n",
       "      <td>849962</td>\n",
       "      <td>SBILIFE</td>\n",
       "      <td>827.00</td>\n",
       "      <td>847.00</td>\n",
       "      <td>827.00</td>\n",
       "      <td>834.25</td>\n",
       "      <td>851189.0</td>\n",
       "      <td>2019</td>\n",
       "      <td>8</td>\n",
       "      <td>2019-08-27</td>\n",
       "    </tr>\n",
       "    <tr>\n",
       "      <td>320885</td>\n",
       "      <td>SBILIFE</td>\n",
       "      <td>838.00</td>\n",
       "      <td>839.45</td>\n",
       "      <td>818.15</td>\n",
       "      <td>827.10</td>\n",
       "      <td>606859.0</td>\n",
       "      <td>2019</td>\n",
       "      <td>8</td>\n",
       "      <td>2019-08-26</td>\n",
       "    </tr>\n",
       "    <tr>\n",
       "      <td>974657</td>\n",
       "      <td>SBILIFE</td>\n",
       "      <td>814.95</td>\n",
       "      <td>830.05</td>\n",
       "      <td>812.25</td>\n",
       "      <td>821.25</td>\n",
       "      <td>545349.0</td>\n",
       "      <td>2019</td>\n",
       "      <td>8</td>\n",
       "      <td>2019-08-23</td>\n",
       "    </tr>\n",
       "    <tr>\n",
       "      <td>868440</td>\n",
       "      <td>SBILIFE</td>\n",
       "      <td>826.20</td>\n",
       "      <td>837.65</td>\n",
       "      <td>805.55</td>\n",
       "      <td>815.20</td>\n",
       "      <td>451114.0</td>\n",
       "      <td>2019</td>\n",
       "      <td>8</td>\n",
       "      <td>2019-08-22</td>\n",
       "    </tr>\n",
       "    <tr>\n",
       "      <td>1150397</td>\n",
       "      <td>SBILIFE</td>\n",
       "      <td>852.50</td>\n",
       "      <td>857.00</td>\n",
       "      <td>824.20</td>\n",
       "      <td>829.45</td>\n",
       "      <td>469687.0</td>\n",
       "      <td>2019</td>\n",
       "      <td>8</td>\n",
       "      <td>2019-08-21</td>\n",
       "    </tr>\n",
       "  </tbody>\n",
       "</table>\n",
       "</div>"
      ],
      "text/plain": [
       "          ticker    open    high     low   close    volume  year  month  \\\n",
       "174950   SBILIFE  827.80  839.80  822.30  835.10  338992.0  2019      8   \n",
       "684163   SBILIFE  840.00  841.80  821.55  828.45  538964.0  2019      8   \n",
       "849962   SBILIFE  827.00  847.00  827.00  834.25  851189.0  2019      8   \n",
       "320885   SBILIFE  838.00  839.45  818.15  827.10  606859.0  2019      8   \n",
       "974657   SBILIFE  814.95  830.05  812.25  821.25  545349.0  2019      8   \n",
       "868440   SBILIFE  826.20  837.65  805.55  815.20  451114.0  2019      8   \n",
       "1150397  SBILIFE  852.50  857.00  824.20  829.45  469687.0  2019      8   \n",
       "\n",
       "               date  \n",
       "174950   2019-08-29  \n",
       "684163   2019-08-28  \n",
       "849962   2019-08-27  \n",
       "320885   2019-08-26  \n",
       "974657   2019-08-23  \n",
       "868440   2019-08-22  \n",
       "1150397  2019-08-21  "
      ]
     },
     "execution_count": 84,
     "metadata": {},
     "output_type": "execute_result"
    }
   ],
   "source": [
    "df_20mic_j = df_20mic.iloc[:j]\n",
    "df_20mic_j.head(10)"
   ]
  },
  {
   "cell_type": "code",
   "execution_count": 85,
   "metadata": {},
   "outputs": [],
   "source": [
    "import math"
   ]
  },
  {
   "cell_type": "code",
   "execution_count": 86,
   "metadata": {},
   "outputs": [
    {
     "name": "stdout",
     "output_type": "stream",
     "text": [
      "j_mean: 827.26, k_mean: 800.23, j_std: 7.05, t_statistic: 10.14\n"
     ]
    }
   ],
   "source": [
    "j_mean = df_20mic_j[\"close\"].mean()\n",
    "k_mean = df_20mic[\"close\"].mean()\n",
    "j_std = df_20mic_j[\"close\"].std()\n",
    "t_statistic = (j_mean-k_mean)/(j_std/math.sqrt(j))\n",
    "print(\"j_mean: {:.2f}, k_mean: {:.2f}, j_std: {:.2f}, t_statistic: {:.2f}\".format(j_mean, k_mean, j_std, t_statistic))"
   ]
  },
  {
   "cell_type": "code",
   "execution_count": 87,
   "metadata": {},
   "outputs": [
    {
     "data": {
      "text/plain": [
       "[]"
      ]
     },
     "execution_count": 87,
     "metadata": {},
     "output_type": "execute_result"
    },
    {
     "data": {
      "image/png": "[encoded data removed]",
      "text/plain": [
       "<Figure size 432x288 with 1 Axes>"
      ]
     },
     "metadata": {
      "needs_background": "light"
     },
     "output_type": "display_data"
    }
   ],
   "source": [
    "sns.distplot(df_20mic[\"close\"], label=\"pop\")\n",
    "sns.distplot(df_20mic_j[\"close\"], label=\"sample\", kde_kws={'linestyle':'--'})\n",
    "plt.plot()"
   ]
  },
  {
   "cell_type": "code",
   "execution_count": 88,
   "metadata": {},
   "outputs": [],
   "source": [
    "import scipy.stats as stats"
   ]
  },
  {
   "cell_type": "code",
   "execution_count": 89,
   "metadata": {},
   "outputs": [
    {
     "name": "stdout",
     "output_type": "stream",
     "text": [
      "t-statistic = 10.142 pvalue = 0.0000\n"
     ]
    }
   ],
   "source": [
    "pval = stats.t.sf(np.abs(t_statistic), j-1)  # two-sided pvalue = Prob(abs(t)>tt)\n",
    "print('t-statistic = %6.3f pvalue = %6.4f' % (t_statistic, pval))\n",
    "# t-statistic =  0.391 pvalue = 0.6955"
   ]
  },
  {
   "cell_type": "code",
   "execution_count": null,
   "metadata": {},
   "outputs": [],
   "source": []
  }
 ],
 "metadata": {
  "kernelspec": {
   "display_name": "Python 3",
   "language": "python",
   "name": "python3"
  },
  "language_info": {
   "codemirror_mode": {
    "name": "ipython",
    "version": 3
   },
   "file_extension": ".py",
   "mimetype": "text/x-python",
   "name": "python",
   "nbconvert_exporter": "python",
   "pygments_lexer": "ipython3",
   "version": "3.7.4"
  }
 },
 "nbformat": 4,
 "nbformat_minor": 2
}
